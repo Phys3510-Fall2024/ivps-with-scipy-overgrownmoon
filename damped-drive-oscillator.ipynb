{
 "cells": [
  {
   "cell_type": "markdown",
   "id": "087703f3-f727-430a-996b-2154ea42b88b",
   "metadata": {},
   "source": [
    "# Solving a Driven, Damped Harmonic Oscillator with `SciPy`\n",
    "\n",
    "Last week, we solved some differential equations with custom Euler and Runge-Kutta codes. `Scipy` can solve *initial value problems* like this with built-in functions. This week, we will explore the damped, driven harmonic oscillator with these built-in functions.\n",
    "\n",
    "Here is the equation we want to solve:\n",
    "\n",
    "$$ m \\ddot{Q} + 2 \\gamma m \\dot{Q} + k Q = F_0 \\sin(\\omega t + \\phi) $$\n",
    "\n",
    "Notice that this is the same as the equation of motion we derived for any push away from equilibrium in a harmonic system, except for the term $2 \\gamma m \\dot(Q)$ which we can view as a *damping term*. This allows our oscillator to slowly dissipate energy.\n",
    "\n",
    "We'll focus on:\n",
    "1. Visualizing the displacement $Q(t)$, velocity $V(t)$, and driving force $F_0 \\sin(\\omega t + \\phi)$.\n",
    "2. Plotting the phase portrait (displacement vs. velocity).\n",
    "3. Computing and plotting the kinetic, potential, and total energy.\n"
   ]
  },
  {
   "cell_type": "code",
   "execution_count": 38,
   "id": "1c50135f-8743-4495-8e96-d3c2303834b6",
   "metadata": {},
   "outputs": [],
   "source": [
    "# Import the necessary libraries\n",
    "import numpy as np\n",
    "import matplotlib.pyplot as plt\n",
    "from scipy.integrate import solve_ivp\n",
    "import ipywidgets as widgets"
   ]
  },
  {
   "cell_type": "markdown",
   "id": "3b367a74-6876-4445-b22e-e583bfaa9177",
   "metadata": {},
   "source": [
    "## Defining first-order equations\n",
    "\n",
    "Last week we learned that we can solve differential equations like this by setting up a system of first-order equations and numerically approximating the trajectory. To do this, we need to relate the first derivative of `Q` in time, to its velocity. That is, $ \\dot{Q} = V $.\n",
    "\n",
    "This takes the equation of motion and reexpresses it as:\n",
    "$$ \\dot{Q} = V $$\n",
    "$$ \\dot{V} =  \\left[ F_0 \\sin(\\omega t + \\phi) - 2 \\gamma m V - k Q \\right] / m $$\n",
    "\n",
    "We will:\n",
    "- Define the system of first-order ODEs from the second-order equation.\n",
    "- Assign initial conditions and parameters for mass, damping, spring constant, and the driving force.\n"
   ]
  },
  {
   "cell_type": "code",
   "execution_count": 45,
   "id": "31b0c8bf-ea4f-45cd-a171-d6c2af37db9a",
   "metadata": {},
   "outputs": [],
   "source": [
    "# Define the system of first-order ODEs\n",
    "def harmonic_oscillator(t, y, m, gamma, k, F0, omega, phi):\n",
    "    Q, V = y\n",
    "    dQdt = V\n",
    "    dVdt = (F0 * np.sin(omega * t + phi) - 2 * gamma * m * V - k * Q) / m\n",
    "    return [dQdt, dVdt]\n"
   ]
  },
  {
   "cell_type": "markdown",
   "id": "84d57999-49ce-442a-a482-57d69f85fea4",
   "metadata": {},
   "source": [
    "## Defining initial conditions and parameters\n",
    "\n",
    "We want to define some parameters to get things started. We will need to set some initial conditions as well. (We can always put everything into an interactive environment once things are working.)"
   ]
  },
  {
   "cell_type": "code",
   "execution_count": 48,
   "id": "577754ab-e0cb-4f07-a2e1-3f91a49cb4e7",
   "metadata": {},
   "outputs": [],
   "source": [
    "# Define parameters\n",
    "m = 1.0  # mass\n",
    "gamma = 0.1  # damping coefficient\n",
    "k = 1.0  # spring constant\n",
    "F0 = 1.0  # amplitude of the driving force\n",
    "omega = 1.0  # angular frequency of the driving force\n",
    "phi = 0.0  # phase of the driving force\n",
    "\n",
    "# Initial conditions for Q and V\n",
    "Q0 = 0.0  # initial displacement\n",
    "V0 = 0.0  # initial velocity\n",
    "y0 = [Q0, V0]\n",
    "\n",
    "# Time span for the solution\n",
    "t_span = (0, 50)  # start and end time\n",
    "t_eval = np.linspace(0, 50, 1000)  # times at which to store the computed solution"
   ]
  },
  {
   "cell_type": "markdown",
   "id": "e108dd4c-8f57-4225-afbc-8f43debddfc0",
   "metadata": {},
   "source": [
    "## `solve_ivp` syntax\n",
    "\n",
    "First, take a look at the help file for `solve_ivp`."
   ]
  },
  {
   "cell_type": "code",
   "execution_count": 49,
   "id": "4094874c-877f-4fcd-adb9-72f8ab8f47ba",
   "metadata": {},
   "outputs": [],
   "source": [
    "#help(solve_ivp)"
   ]
  },
  {
   "cell_type": "markdown",
   "id": "215d408b-a9e9-43a9-84bb-af926e719bc9",
   "metadata": {},
   "source": [
    "## Testing the output"
   ]
  },
  {
   "cell_type": "code",
   "execution_count": 51,
   "id": "563f4615-ca63-44b2-a648-247cb1ebcf88",
   "metadata": {},
   "outputs": [
    {
     "data": {
      "text/plain": [
       "  message: The solver successfully reached the end of the integration interval.\n",
       "  success: True\n",
       "   status: 0\n",
       "        t: [ 0.000e+00  1.001e-02 ...  9.990e+00  1.000e+01]\n",
       "        y: [[ 0.000e+00  1.671e-07 ...  2.526e+00  2.508e+00]\n",
       "            [ 0.000e+00  5.007e-05 ... -1.769e+00 -1.796e+00]]\n",
       "      sol: None\n",
       " t_events: None\n",
       " y_events: None\n",
       "     nfev: 362\n",
       "     njev: 0\n",
       "      nlu: 0"
      ]
     },
     "execution_count": 51,
     "metadata": {},
     "output_type": "execute_result"
    }
   ],
   "source": [
    "# solve ivp\n",
    "sol = solve_ivp(harmonic_oscillator, # differential equation to be solved\n",
    "                [0, 50], # time interval\n",
    "                y0, # initial conditions\n",
    "                method='RK45', # method to be used. here it is Runge-Kutta 45, the default. (4th order with 5th order error estimate)\n",
    "                t_eval=np.linspace(0, 10, 1000), # explicit points to evaluate the solution on, if desired\n",
    "                args=(m, gamma, k, F0, omega, phi)) # arguments which are passed to `harmonic_oscillator`\n",
    "sol"
   ]
  },
  {
   "cell_type": "markdown",
   "id": "0fdb03dd-7e54-4481-82dc-e32e38afe760",
   "metadata": {},
   "source": [
    "You can explore the ***Returns*** portion of the help file for `solve_ivp` to better understand the output.\n",
    "\n",
    "For basic usage, `t`, and `y` are what is needed. \n",
    "\n",
    "* `t` is the list of times for which you have a solution.\n",
    "* `y` is a list of solutions. `y[0]` will be the first solution, `y[1]` the second, etc.\n",
    "    * In our case, `y[0]` is `Q(t)` and `y[1]` is `V(t)`"
   ]
  },
  {
   "cell_type": "code",
   "execution_count": 52,
   "id": "49dc793f-677b-4065-94f9-f2dd10cbc92d",
   "metadata": {},
   "outputs": [
    {
     "data": {
      "text/plain": [
       "array([[0.00000000e+00, 0.00000000e+00, 0.00000000e+00],\n",
       "       [1.00100100e-02, 1.67082363e-07, 5.00658972e-05],\n",
       "       [2.00200200e-02, 1.33524088e-06, 2.00120259e-04],\n",
       "       [3.00300300e-02, 4.50420053e-06, 4.49933033e-04],\n",
       "       [4.00400400e-02, 1.06724535e-05, 7.99254243e-04],\n",
       "       [5.00500501e-02, 2.08352092e-05, 1.24781467e-03],\n",
       "       [6.00600601e-02, 3.59843791e-05, 1.79532585e-03],\n",
       "       [7.00700701e-02, 5.71085767e-05, 2.44148010e-03],\n",
       "       [8.00800801e-02, 8.51931177e-05, 3.18595047e-03],\n",
       "       [9.00900901e-02, 1.21220020e-04, 4.02839080e-03]])"
      ]
     },
     "execution_count": 52,
     "metadata": {},
     "output_type": "execute_result"
    }
   ],
   "source": [
    "np.transpose([sol.t[0:10],sol.y[0][0:10],sol.y[1][0:10]])"
   ]
  },
  {
   "cell_type": "markdown",
   "id": "ee7f9aba-4aa4-493a-a277-dcfccdefc415",
   "metadata": {},
   "source": [
    "We can plot them to see that everything is in order."
   ]
  },
  {
   "cell_type": "code",
   "execution_count": 53,
   "id": "17396e8b-f9ba-44ed-b7cd-e1bc82da6037",
   "metadata": {},
   "outputs": [
    {
     "data": {
      "image/png": "[encoded data removed]",
      "text/plain": [
       "<Figure size 640x480 with 1 Axes>"
      ]
     },
     "metadata": {},
     "output_type": "display_data"
    }
   ],
   "source": [
    "plt.plot(sol.t,sol.y[0])\n",
    "plt.plot(sol.t,sol.y[1])\n",
    "plt.show()"
   ]
  },
  {
   "cell_type": "markdown",
   "id": "fb3541ad-b5a8-4416-943c-29106014ae7c",
   "metadata": {},
   "source": [
    "## Exploring the solution\n",
    "\n",
    "Now that we know things are working, let's plot the solutions and explore the behavior with interactive sliders."
   ]
  },
  {
   "cell_type": "code",
   "execution_count": 54,
   "id": "6e27711a-73d2-42e0-be47-a0a06ccbd8e5",
   "metadata": {},
   "outputs": [
    {
     "data": {
      "application/vnd.jupyter.widget-view+json": {
       "model_id": "f5c088f1353543d1b25e81f8e5a38fb1",
       "version_major": 2,
       "version_minor": 0
      },
      "text/plain": [
       "interactive(children=(FloatSlider(value=1.0, description='F0', max=5.0), FloatSlider(value=1.0, description='o…"
      ]
     },
     "metadata": {},
     "output_type": "display_data"
    }
   ],
   "source": [
    "# Update the plotting function to include energy plots and numerical integration\n",
    "def solve_ivp_plot(F0, omega, gamma, t_max, Q0, V0):\n",
    "    # define initial values of Q and V\n",
    "    y0 = [Q0, V0]\n",
    "    \n",
    "    # Solve the system of ODEs\n",
    "    sol = solve_ivp(harmonic_oscillator, [0, t_max], y0, t_eval=np.linspace(0, t_max, 1000), args=(m, gamma, k, F0, omega, phi))\n",
    "    Q_sol = sol.y[0]\n",
    "    V_sol = sol.y[1]\n",
    "    t_sol = sol.t\n",
    "\n",
    "    F_drive = F0 * np.sin(omega * t_sol + phi)\n",
    "    \n",
    "    # plot Q, V, and F\n",
    "    plt.figure(figsize=(11,4))\n",
    "    # Time plot: Displacement, Velocity, and Driving Force\n",
    "    plt.plot(t_sol, Q_sol, label=\"Displacement Q(t)\")\n",
    "    plt.plot(t_sol, V_sol, label=\"Velocity V(t)\")\n",
    "    plt.plot(t_sol, F_drive, label=\"Driving Force F(t)\",color='black')\n",
    "    plt.xlabel(\"Time [a.u.]\")\n",
    "    plt.ylabel(\"Amplitude of Q / V / F in a.u.\")\n",
    "    plt.legend()\n",
    "    plt.show()\n",
    "\n",
    "# Create sliders for interactive plotting, including a time slider\n",
    "F0_slider = widgets.FloatSlider(value=1.0, min=0.0, max=5.0, step=0.1, description='F0')\n",
    "omega_slider = widgets.FloatSlider(value=1.0, min=0.0, max=5.0, step=0.1, description='omega')\n",
    "gamma_slider = widgets.FloatSlider(value=0.1, min=0.0, max=1.0, step=0.01, description='gamma')\n",
    "t_max_slider = widgets.FloatSlider(value=50, min=10, max=100, step=1, description='Max Time')\n",
    "Q0_slider = widgets.FloatSlider(value=0.0, min=-5.0, max=5.0, step=0.1, description='Initial Q_0')\n",
    "V0_slider = widgets.FloatSlider(value=0.0, min=-5.0, max=5.0, step=0.1, description='Initial V_0')\n",
    "\n",
    "# Create the interactive widget\n",
    "interactive_plot = widgets.interactive(solve_ivp_plot, F0=F0_slider, omega=omega_slider, gamma=gamma_slider, \n",
    "                                       t_max=t_max_slider, Q0=Q0_slider, V0=V0_slider)\n",
    "display(interactive_plot)\n"
   ]
  },
  {
   "cell_type": "markdown",
   "id": "ddb59702-7684-4cc7-ba7f-633825d1892d",
   "metadata": {},
   "source": [
    "## We can also look at phase space\n"
   ]
  },
  {
   "cell_type": "code",
   "execution_count": 55,
   "id": "bfc1049d-bab3-4a16-a1ea-992675595d61",
   "metadata": {},
   "outputs": [
    {
     "data": {
      "application/vnd.jupyter.widget-view+json": {
       "model_id": "bad7ef82f10e42ac9507ab72a1e1e0b3",
       "version_major": 2,
       "version_minor": 0
      },
      "text/plain": [
       "interactive(children=(FloatSlider(value=1.0, description='F0', max=5.0), FloatSlider(value=1.0, description='o…"
      ]
     },
     "metadata": {},
     "output_type": "display_data"
    }
   ],
   "source": [
    "# Update the plotting function to include energy plots and numerical integration\n",
    "def solve_ivp_phase(F0, omega, gamma, t_max, Q0, V0):\n",
    "    # define initial values of Q and V\n",
    "    y0 = [Q0, V0]\n",
    "    \n",
    "    # Solve the system of ODEs\n",
    "    sol = solve_ivp(harmonic_oscillator, [0, t_max], y0, t_eval=np.linspace(0, t_max, 1000), args=(m, gamma, k, F0, omega, phi))\n",
    "    Q_sol = sol.y[0]\n",
    "    V_sol = sol.y[1]\n",
    "    t_sol = sol.t\n",
    "\n",
    "    # plot\n",
    "    plt.figure(figsize=(6,6))    \n",
    "    # Phase plot: Displacement vs Velocity\n",
    "    plt.plot(Q_sol, V_sol, label=\"Q vs V\")\n",
    "    plt.xlabel(\"Displacement Q(t)\")\n",
    "    plt.ylabel(\"Velocity V(t)\")\n",
    "\n",
    "# Create sliders for interactive plotting, including a time slider\n",
    "F0_slider = widgets.FloatSlider(value=1.0, min=0.0, max=5.0, step=0.1, description='F0')\n",
    "omega_slider = widgets.FloatSlider(value=1.0, min=0.0, max=5.0, step=0.1, description='omega')\n",
    "gamma_slider = widgets.FloatSlider(value=0.1, min=0.0, max=1.0, step=0.01, description='gamma')\n",
    "t_max_slider = widgets.FloatSlider(value=50, min=10, max=100, step=1, description='Max Time')\n",
    "Q0_slider = widgets.FloatSlider(value=0.0, min=-5.0, max=5.0, step=0.1, description='Initial Q_0')\n",
    "V0_slider = widgets.FloatSlider(value=0.0, min=-5.0, max=5.0, step=0.1, description='Initial V_0')\n",
    "\n",
    "# Create the interactive widget\n",
    "interactive_plot = widgets.interactive(solve_ivp_phase, F0=F0_slider, omega=omega_slider, gamma=gamma_slider, \n",
    "                                       t_max=t_max_slider, Q0=Q0_slider, V0=V0_slider)\n",
    "display(interactive_plot)\n"
   ]
  },
  {
   "cell_type": "markdown",
   "id": "5352b099-8acf-4d31-8a96-a36d43dbfaf6",
   "metadata": {},
   "source": [
    "## ...energy\n"
   ]
  },
  {
   "cell_type": "code",
   "execution_count": 56,
   "id": "f4acbd6b-da56-4bd8-bc79-0d1aba9a06aa",
   "metadata": {},
   "outputs": [
    {
     "data": {
      "application/vnd.jupyter.widget-view+json": {
       "model_id": "d248f76bf85d493095a566d29ec5d2de",
       "version_major": 2,
       "version_minor": 0
      },
      "text/plain": [
       "interactive(children=(FloatSlider(value=1.0, description='F0', max=5.0), FloatSlider(value=1.0, description='o…"
      ]
     },
     "metadata": {},
     "output_type": "display_data"
    }
   ],
   "source": [
    "# Update the plotting function to include energy plots and numerical integration\n",
    "def solve_ivp_energy(F0, omega, gamma, t_max, Q0, V0):\n",
    "    # define initial values of Q and V\n",
    "    y0 = [Q0, V0]\n",
    "\n",
    "    # Solve the system of ODEs\n",
    "    sol = solve_ivp(harmonic_oscillator, [0, t_max], y0, t_eval=np.linspace(0, t_max, 1000), args=(m, gamma, k, F0, omega, phi))\n",
    "    Q_sol = sol.y[0]\n",
    "    V_sol = sol.y[1]\n",
    "    t_sol = sol.t\n",
    "        \n",
    "    # Compute kinetic, potential, and total energy\n",
    "    kinetic_energy = 0.5 * m * V_sol**2\n",
    "    potential_energy = 0.5 * k * Q_sol**2\n",
    "    total_energy = kinetic_energy + potential_energy\n",
    "        \n",
    "    # Energy plot\n",
    "    plt.plot(t_sol, kinetic_energy, label=\"Kinetic Energy E_k(t)\")\n",
    "    plt.plot(t_sol, potential_energy, label=\"Potential Energy E_p(t)\")\n",
    "    plt.plot(t_sol, total_energy, label=\"Total Energy E_total(t)\")\n",
    "    plt.xlabel(\"Time [a.u.]\")\n",
    "    plt.ylabel(\"Energy [a.u]\")\n",
    "    plt.legend()\n",
    "    plt.show()\n",
    "\n",
    "# Create sliders for interactive plotting, including a time slider\n",
    "F0_slider = widgets.FloatSlider(value=1.0, min=0.0, max=5.0, step=0.1, description='F0')\n",
    "omega_slider = widgets.FloatSlider(value=1.0, min=0.0, max=5.0, step=0.1, description='omega')\n",
    "gamma_slider = widgets.FloatSlider(value=0.1, min=0.0, max=1.0, step=0.01, description='gamma')\n",
    "t_max_slider = widgets.FloatSlider(value=50, min=10, max=100, step=1, description='Max Time')\n",
    "Q0_slider = widgets.FloatSlider(value=0.0, min=-5.0, max=5.0, step=0.1, description='Initial Q_0')\n",
    "V0_slider = widgets.FloatSlider(value=0.0, min=-5.0, max=5.0, step=0.1, description='Initial V_0')\n",
    "\n",
    "# Create the interactive widget\n",
    "interactive_plot = widgets.interactive(solve_ivp_energy, F0=F0_slider, omega=omega_slider, gamma=gamma_slider, \n",
    "                                       t_max=t_max_slider, Q0=Q0_slider, V0=V0_slider)\n",
    "display(interactive_plot)\n"
   ]
  },
  {
   "cell_type": "markdown",
   "id": "8d591592-1e3e-4dac-8db6-4b39a6d00482",
   "metadata": {},
   "source": [
    "## ...and power."
   ]
  },
  {
   "cell_type": "code",
   "execution_count": 57,
   "id": "dbade85a-437c-4768-adf9-9c46a608a2b9",
   "metadata": {},
   "outputs": [
    {
     "data": {
      "application/vnd.jupyter.widget-view+json": {
       "model_id": "2d801b2b38bd4463a51f064f274b1248",
       "version_major": 2,
       "version_minor": 0
      },
      "text/plain": [
       "interactive(children=(FloatSlider(value=1.0, description='F0', max=5.0), FloatSlider(value=1.0, description='o…"
      ]
     },
     "metadata": {},
     "output_type": "display_data"
    }
   ],
   "source": [
    "# Update the plotting function to include energy plots and numerical integration\n",
    "def solve_ivp_power(F0, omega, gamma, t_max, Q0, V0):\n",
    "    # define initial values of Q and V\n",
    "    y0 = [Q0, V0]\n",
    "\n",
    "    # Solve the system of ODEs\n",
    "    sol = solve_ivp(harmonic_oscillator, [0, t_max], y0, t_eval=np.linspace(0, t_max, 1000), args=(m, gamma, k, F0, omega, phi))\n",
    "    Q_sol = sol.y[0]\n",
    "    V_sol = sol.y[1]\n",
    "    t_sol = sol.t\n",
    "\n",
    "    # define the driving force\n",
    "    F_drive = F0 * np.sin(omega * t_sol + phi)\n",
    "\n",
    "    # define the power\n",
    "    power = F_drive * V_sol\n",
    "    \n",
    "    # Energy plot\n",
    "    plt.plot(t_sol, power)\n",
    "    plt.xlabel(\"Time [a.u.]\")\n",
    "    plt.ylabel(\"Power [a.u]\")\n",
    "    plt.show()\n",
    "\n",
    "# Create sliders for interactive plotting, including a time slider\n",
    "F0_slider = widgets.FloatSlider(value=1.0, min=0.0, max=5.0, step=0.1, description='F0')\n",
    "omega_slider = widgets.FloatSlider(value=1.0, min=0.0, max=5.0, step=0.1, description='omega')\n",
    "gamma_slider = widgets.FloatSlider(value=0.1, min=0.0, max=1.0, step=0.01, description='gamma')\n",
    "t_max_slider = widgets.FloatSlider(value=50, min=10, max=100, step=1, description='Max Time')\n",
    "Q0_slider = widgets.FloatSlider(value=0.0, min=-5.0, max=5.0, step=0.1, description='Initial Q_0')\n",
    "V0_slider = widgets.FloatSlider(value=0.0, min=-5.0, max=5.0, step=0.1, description='Initial V_0')\n",
    "\n",
    "# Create the interactive widget\n",
    "interactive_plot = widgets.interactive(solve_ivp_power, F0=F0_slider, omega=omega_slider, gamma=gamma_slider, \n",
    "                                       t_max=t_max_slider, Q0=Q0_slider, V0=V0_slider)\n",
    "display(interactive_plot)\n"
   ]
  },
  {
   "cell_type": "markdown",
   "id": "788a74c3-1937-46a3-89d0-4e862a1b8a05",
   "metadata": {},
   "source": [
    "## Assignment\n",
    "\n",
    "1. Explore the response of the damped, driven oscillator with the plots above.\n",
    "2. Add the steady-state analytic solutions derived in class to the plots above.\n",
    "    * Does the RK45 solver seem to be working correctly?\n",
    "    * Make sure that the analytic solutions can be visualized concurrently with the numerical results."
   ]
  },
  {
   "cell_type": "code",
   "execution_count": 37,
   "id": "1c70705f-13c0-4b42-8f2c-24f13d3db1ff",
   "metadata": {},
   "outputs": [],
   "source": [
    "#using this to type the solutions and just copy-paste\n",
    "import sympy as sp\n",
    "A, B, gamma, omega, omega_0, t, F_0, m = sp.symbols(\"A B gamma omega omega_0 t F_0 m\")\n",
    "\n",
    "omega_gamma = (omega**2 - gamma**2)**0.5\n",
    "\n",
    "Q_tr = A*sp.exp(-gamma*t) * sp.cos(omega_gamma*t) + B*sp.exp(-gamma*t) * sp.sin(omega_gamma*t)\n",
    "Q_s = (F_0 / m )/( (omega_0**2 - omega**2)**2 + 4*gamma**2 * omega**2 ) * (omega_0**2 - omega**2) * sp.cos(omega*t) + 2*gamma*omega*sp.sin(omega*t)"
   ]
  },
  {
   "cell_type": "code",
   "execution_count": null,
   "id": "c08011f9-0946-494e-aa72-8f63b11d4d31",
   "metadata": {},
   "outputs": [],
   "source": []
  }
 ],
 "metadata": {
  "kernelspec": {
   "display_name": "Python 3 (ipykernel)",
   "language": "python",
   "name": "python3"
  },
  "language_info": {
   "codemirror_mode": {
    "name": "ipython",
    "version": 3
   },
   "file_extension": ".py",
   "mimetype": "text/x-python",
   "name": "python",
   "nbconvert_exporter": "python",
   "pygments_lexer": "ipython3",
   "version": "3.9.19"
  }
 },
 "nbformat": 4,
 "nbformat_minor": 5
}
